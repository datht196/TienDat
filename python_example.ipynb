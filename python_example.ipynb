{
 "cells": [
  {
   "cell_type": "code",
   "execution_count": 13,
   "id": "fe892ab5",
   "metadata": {},
   "outputs": [],
   "source": [
    "#Các Kiểu Dữ Liệu Cơ Bản trong Python: bool, None, int, float, str\n",
    "# [x] bool: True & False\n",
    "var_bool = True\n",
    "# [x] None: Phần Tử Không\n",
    "var_none = None\n",
    "# [x] Numbers: int (Integer = Số Nguyên) & float (Floating point numbers = Số Thực)\n",
    "var_int=1\n",
    "var_float=0.5\n",
    "#string:chuỗi\n",
    "var_string=\"Hello World\""
   ]
  },
  {
   "cell_type": "code",
   "execution_count": 14,
   "id": "40dbfe2c",
   "metadata": {},
   "outputs": [],
   "source": [
    "#list:danh sách\n",
    "list_4 = [0, 0, 1, 1]\n",
    "#dictionary:từ điển\n",
    "my_dict = {\"name\": \"Dat\", \"age\": 21, \"city\": \"HA noi\"}"
   ]
  },
  {
   "cell_type": "code",
   "execution_count": 22,
   "id": "2d44e573",
   "metadata": {},
   "outputs": [
    {
     "data": {
      "text/plain": [
       "100"
      ]
     },
     "execution_count": 22,
     "metadata": {},
     "output_type": "execute_result"
    }
   ],
   "source": [
    "#function,if else,loop\n",
    "list_a=[1,6,3,7,5,100,2]\n",
    "def max_check(list1):\n",
    "    max=list1[0]\n",
    "    for x in list1:\n",
    "        if x>=max:\n",
    "            max=x\n",
    "    return max\n",
    "max_check(list_a)"
   ]
  },
  {
   "cell_type": "code",
   "execution_count": null,
   "id": "5e5ac42f",
   "metadata": {},
   "outputs": [],
   "source": []
  }
 ],
 "metadata": {
  "kernelspec": {
   "display_name": "Python 3 (ipykernel)",
   "language": "python",
   "name": "python3"
  },
  "language_info": {
   "codemirror_mode": {
    "name": "ipython",
    "version": 3
   },
   "file_extension": ".py",
   "mimetype": "text/x-python",
   "name": "python",
   "nbconvert_exporter": "python",
   "pygments_lexer": "ipython3",
   "version": "3.10.9"
  }
 },
 "nbformat": 4,
 "nbformat_minor": 5
}
